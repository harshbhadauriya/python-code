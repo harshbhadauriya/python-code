{
 "cells": [
  {
   "cell_type": "markdown",
   "id": "dfe5e632",
   "metadata": {},
   "source": [
    "### INPUT/OUTPUT\n"
   ]
  },
  {
   "cell_type": "code",
   "execution_count": 1,
   "id": "b75a602f",
   "metadata": {},
   "outputs": [
    {
     "name": "stdout",
     "output_type": "stream",
     "text": [
      "harsh\n",
      "hello harsh\n"
     ]
    }
   ],
   "source": [
    "Name = input()\n",
    "print(\"hello\",Name)"
   ]
  },
  {
   "cell_type": "code",
   "execution_count": 6,
   "id": "2b3e775a",
   "metadata": {},
   "outputs": [
    {
     "name": "stdout",
     "output_type": "stream",
     "text": [
      "Help on method raw_input in module ipykernel.kernelbase:\n",
      "\n",
      "raw_input(prompt='') method of ipykernel.ipkernel.IPythonKernel instance\n",
      "    Forward raw_input to frontends\n",
      "    \n",
      "    Raises\n",
      "    ------\n",
      "    StdinNotImplementedError if active frontend doesn't support stdin.\n",
      "\n"
     ]
    }
   ],
   "source": [
    "help(input)"
   ]
  },
  {
   "cell_type": "code",
   "execution_count": 7,
   "id": "9e8ed90c",
   "metadata": {},
   "outputs": [
    {
     "name": "stdout",
     "output_type": "stream",
     "text": [
      "Help on built-in function print in module builtins:\n",
      "\n",
      "print(...)\n",
      "    print(value, ..., sep=' ', end='\\n', file=sys.stdout, flush=False)\n",
      "    \n",
      "    Prints the values to a stream, or to sys.stdout by default.\n",
      "    Optional keyword arguments:\n",
      "    file:  a file-like object (stream); defaults to the current sys.stdout.\n",
      "    sep:   string inserted between values, default a space.\n",
      "    end:   string appended after the last value, default a newline.\n",
      "    flush: whether to forcibly flush the stream.\n",
      "\n"
     ]
    }
   ],
   "source": [
    "help(print)"
   ]
  },
  {
   "cell_type": "code",
   "execution_count": 13,
   "id": "3585e0b8",
   "metadata": {},
   "outputs": [],
   "source": [
    "###   \\n-----it means it changes the line in function"
   ]
  },
  {
   "cell_type": "code",
   "execution_count": 15,
   "id": "7ca45a45",
   "metadata": {},
   "outputs": [
    {
     "name": "stdout",
     "output_type": "stream",
     "text": [
      "hello\n",
      "harsh\n",
      "wlecome\n",
      "to\n",
      "python\n"
     ]
    }
   ],
   "source": [
    "print(\"hello\\nharsh\\nwlecome\\nto\\npython\")"
   ]
  },
  {
   "cell_type": "code",
   "execution_count": 25,
   "id": "24e44d55",
   "metadata": {},
   "outputs": [
    {
     "name": "stdout",
     "output_type": "stream",
     "text": [
      "HARSH\n"
     ]
    }
   ],
   "source": [
    "print(chr(72)+chr(65)+chr(82)+chr(83)+chr(72))"
   ]
  },
  {
   "cell_type": "code",
   "execution_count": 26,
   "id": "fa5bb09b",
   "metadata": {
    "scrolled": true
   },
   "outputs": [
    {
     "name": "stdout",
     "output_type": "stream",
     "text": [
      "i love india india is my country\n"
     ]
    }
   ],
   "source": [
    "print(\"i love india\", end=\" \")\n",
    "print(\"india is my country\")"
   ]
  },
  {
   "cell_type": "code",
   "execution_count": 30,
   "id": "b959b943",
   "metadata": {},
   "outputs": [
    {
     "name": "stdout",
     "output_type": "stream",
     "text": [
      "ilove india india is my country\n"
     ]
    }
   ],
   "source": [
    "print(\"i love india\",\"india is my country\")\n"
   ]
  },
  {
   "cell_type": "code",
   "execution_count": null,
   "id": "d35b3494",
   "metadata": {},
   "outputs": [],
   "source": []
  },
  {
   "cell_type": "code",
   "execution_count": null,
   "id": "237ea47b",
   "metadata": {},
   "outputs": [],
   "source": [
    "\n",
    "        "
   ]
  },
  {
   "cell_type": "markdown",
   "id": "cb321745",
   "metadata": {},
   "source": [
    "### Assingnment--1"
   ]
  },
  {
   "cell_type": "code",
   "execution_count": 2,
   "id": "34da3354",
   "metadata": {},
   "outputs": [
    {
     "name": "stdout",
     "output_type": "stream",
     "text": [
      "enter your nameharsh\n",
      "enter your birth year2001\n",
      "hello harsh you are 21 year old \n"
     ]
    }
   ],
   "source": [
    "Name= input(\"enter your name\")\n",
    "Birth_year = int(input(\"enter your birth year\"))\n",
    "Current_year=2022\n",
    "age=Current_year-Birth_year\n",
    "print(\"hello\",Name,\"you are\",age,\"year old \")"
   ]
  },
  {
   "cell_type": "markdown",
   "id": "29fde3e7",
   "metadata": {},
   "source": [
    "### Assingment 2\n",
    "\n",
    "\n"
   ]
  },
  {
   "cell_type": "code",
   "execution_count": null,
   "id": "7e0a11df",
   "metadata": {},
   "outputs": [],
   "source": [
    "Product_name = input(\"enter the name of the product\")\n",
    "Product_price = int(input(\"enter amount\"))\n",
    "Discount = int(input(\"enter given discount\"))\n",
    "sol = (Product_price*Discount)/100\n",
    "Amount_pay = Product_price-sol\n",
    "print(\"you have to pay\",Amount_pay,\"\\u20B9\",\"for\",Product_name)"
   ]
  },
  {
   "cell_type": "code",
   "execution_count": 43,
   "id": "db3fc06f",
   "metadata": {},
   "outputs": [
    {
     "name": "stdout",
     "output_type": "stream",
     "text": [
      "₹\n"
     ]
    }
   ],
   "source": [
    "print(\"\\u20B9\")"
   ]
  },
  {
   "cell_type": "markdown",
   "id": "a5668df6",
   "metadata": {},
   "source": [
    "\n"
   ]
  },
  {
   "cell_type": "code",
   "execution_count": 4,
   "id": "6535903c",
   "metadata": {},
   "outputs": [
    {
     "name": "stdout",
     "output_type": "stream",
     "text": [
      "2022\n"
     ]
    }
   ],
   "source": [
    "import datetime\n",
    "ctime= datetime.datetime.now().year\n",
    "print(ctime)"
   ]
  },
  {
   "cell_type": "code",
   "execution_count": 3,
   "id": "78bdc23b",
   "metadata": {},
   "outputs": [
    {
     "name": "stdout",
     "output_type": "stream",
     "text": [
      "enter the name of the productjgy\n",
      "enter amount5657\n",
      "enter given discount65\n",
      "you have to pay 1979.9499999999998 ₹ for jgy\n"
     ]
    }
   ],
   "source": [
    "Product_name = input(\"enter the name of the product\")\n",
    "Product_price = float(input(\"enter amount\"))\n",
    "Discount = float(input(\"enter given discount\"))\n",
    "sol = (Product_price*Discount)/100\n",
    "Amount_pay = Product_price-sol\n",
    "print(\"you have to pay\",Amount_pay,\"\\u20B9\",\"for\",Product_name)"
   ]
  },
  {
   "cell_type": "markdown",
   "id": "d75c75cc",
   "metadata": {},
   "source": [
    "### Assingnment--3\n"
   ]
  },
  {
   "cell_type": "code",
   "execution_count": 6,
   "id": "28dd4b17",
   "metadata": {},
   "outputs": [
    {
     "name": "stdout",
     "output_type": "stream",
     "text": [
      "enter the item -->Burger\n",
      "enter price-->40\n",
      "enter the number of quantity--->20\n",
      "enter the discount--->10\n",
      "you have to pay 864.0 ₹ for Burger\n"
     ]
    }
   ],
   "source": [
    "item = input(\"enter the item -->\")\n",
    "item_price = int(input(\"enter price-->\"))\n",
    "Quantity = int(input(\"enter the number of quantity--->\"))\n",
    "given_discount = int(input(\"enter the discount--->\"))\n",
    "\n",
    "sol = (item_price*Quantity)*given_discount/100\n",
    "orignal_amount = (item_price*Quantity)-sol\n",
    "Tax_pay = (orignal_amount)*20/100\n",
    "Amount_pay = orignal_amount+Tax_pay\n",
    "\n",
    "print(\"you have to pay\",Amount_pay,\"\\u20B9 for\",item)"
   ]
  },
  {
   "cell_type": "markdown",
   "id": "9e473c44",
   "metadata": {},
   "source": [
    "### Assingnment-4"
   ]
  },
  {
   "cell_type": "code",
   "execution_count": 15,
   "id": "28e62c04",
   "metadata": {},
   "outputs": [
    {
     "name": "stdout",
     "output_type": "stream",
     "text": [
      "enter distance5\n",
      "you have to pay 110 ₹\n"
     ]
    }
   ],
   "source": [
    "A = 100\n",
    "B= int(input(\"enter distance\"))\n",
    "C = 3\n",
    "D = B//3\n",
    "E = C-D\n",
    "F = 5*E\n",
    "G = A+F\n",
    "print(\"you have to pay\",G,\"\\u20B9\")"
   ]
  },
  {
   "cell_type": "code",
   "execution_count": null,
   "id": "96f37863",
   "metadata": {},
   "outputs": [],
   "source": []
  },
  {
   "cell_type": "code",
   "execution_count": 18,
   "id": "451c3363",
   "metadata": {},
   "outputs": [
    {
     "name": "stdout",
     "output_type": "stream",
     "text": [
      "<class 'int'>\n"
     ]
    }
   ],
   "source": [
    "s=5\n",
    "print(type(s))"
   ]
  },
  {
   "cell_type": "code",
   "execution_count": null,
   "id": "a8e23bd9",
   "metadata": {},
   "outputs": [],
   "source": []
  },
  {
   "cell_type": "code",
   "execution_count": null,
   "id": "5a3ad4cd",
   "metadata": {},
   "outputs": [],
   "source": []
  }
 ],
 "metadata": {
  "kernelspec": {
   "display_name": "Python 3 (ipykernel)",
   "language": "python",
   "name": "python3"
  },
  "language_info": {
   "codemirror_mode": {
    "name": "ipython",
    "version": 3
   },
   "file_extension": ".py",
   "mimetype": "text/x-python",
   "name": "python",
   "nbconvert_exporter": "python",
   "pygments_lexer": "ipython3",
   "version": "3.9.7"
  }
 },
 "nbformat": 4,
 "nbformat_minor": 5
}
